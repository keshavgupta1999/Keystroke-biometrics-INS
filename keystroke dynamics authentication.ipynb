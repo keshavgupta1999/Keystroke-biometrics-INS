{
 "cells": [
  {
   "cell_type": "markdown",
   "metadata": {},
   "source": [
    "# Keystroke Dynamics Using RNNs\n",
    "This notebook goes from the process of cleaning and preparing data to train and test a RNN for the job of Keystroke Dynamics. The Authentication Procedure comprises of using the timing of key strike, key hold, key change and so on to reach a conclusion whether the subject under observation is authentic or not."
   ]
  },
  {
   "cell_type": "markdown",
   "metadata": {},
   "source": [
    "## Data Preparation &amp; Cleaning"
   ]
  },
  {
   "cell_type": "code",
   "execution_count": 1,
   "metadata": {},
   "outputs": [],
   "source": [
    "import pandas as pd\n",
    "import numpy as np\n",
    "import matplotlib.pyplot as plt\n",
    "\n",
    "%matplotlib inline"
   ]
  },
  {
   "cell_type": "code",
   "execution_count": 2,
   "metadata": {},
   "outputs": [
    {
     "data": {
      "text/html": [
       "<div>\n",
       "<table border=\"1\" class=\"dataframe\">\n",
       "  <thead>\n",
       "    <tr style=\"text-align: right;\">\n",
       "      <th></th>\n",
       "      <th>subject</th>\n",
       "      <th>sessionIndex</th>\n",
       "      <th>rep</th>\n",
       "      <th>H.period</th>\n",
       "      <th>DD.period.t</th>\n",
       "      <th>UD.period.t</th>\n",
       "      <th>H.t</th>\n",
       "      <th>DD.t.i</th>\n",
       "      <th>UD.t.i</th>\n",
       "      <th>H.i</th>\n",
       "      <th>...</th>\n",
       "      <th>H.a</th>\n",
       "      <th>DD.a.n</th>\n",
       "      <th>UD.a.n</th>\n",
       "      <th>H.n</th>\n",
       "      <th>DD.n.l</th>\n",
       "      <th>UD.n.l</th>\n",
       "      <th>H.l</th>\n",
       "      <th>DD.l.Return</th>\n",
       "      <th>UD.l.Return</th>\n",
       "      <th>H.Return</th>\n",
       "    </tr>\n",
       "  </thead>\n",
       "  <tbody>\n",
       "    <tr>\n",
       "      <th>0</th>\n",
       "      <td>s002</td>\n",
       "      <td>1</td>\n",
       "      <td>1</td>\n",
       "      <td>0.1491</td>\n",
       "      <td>0.3979</td>\n",
       "      <td>0.2488</td>\n",
       "      <td>0.1069</td>\n",
       "      <td>0.1674</td>\n",
       "      <td>0.0605</td>\n",
       "      <td>0.1169</td>\n",
       "      <td>...</td>\n",
       "      <td>0.1349</td>\n",
       "      <td>0.1484</td>\n",
       "      <td>0.0135</td>\n",
       "      <td>0.0932</td>\n",
       "      <td>0.3515</td>\n",
       "      <td>0.2583</td>\n",
       "      <td>0.1338</td>\n",
       "      <td>0.3509</td>\n",
       "      <td>0.2171</td>\n",
       "      <td>0.0742</td>\n",
       "    </tr>\n",
       "    <tr>\n",
       "      <th>1</th>\n",
       "      <td>s002</td>\n",
       "      <td>1</td>\n",
       "      <td>2</td>\n",
       "      <td>0.1111</td>\n",
       "      <td>0.3451</td>\n",
       "      <td>0.2340</td>\n",
       "      <td>0.0694</td>\n",
       "      <td>0.1283</td>\n",
       "      <td>0.0589</td>\n",
       "      <td>0.0908</td>\n",
       "      <td>...</td>\n",
       "      <td>0.1412</td>\n",
       "      <td>0.2558</td>\n",
       "      <td>0.1146</td>\n",
       "      <td>0.1146</td>\n",
       "      <td>0.2642</td>\n",
       "      <td>0.1496</td>\n",
       "      <td>0.0839</td>\n",
       "      <td>0.2756</td>\n",
       "      <td>0.1917</td>\n",
       "      <td>0.0747</td>\n",
       "    </tr>\n",
       "    <tr>\n",
       "      <th>2</th>\n",
       "      <td>s002</td>\n",
       "      <td>1</td>\n",
       "      <td>3</td>\n",
       "      <td>0.1328</td>\n",
       "      <td>0.2072</td>\n",
       "      <td>0.0744</td>\n",
       "      <td>0.0731</td>\n",
       "      <td>0.1291</td>\n",
       "      <td>0.0560</td>\n",
       "      <td>0.0821</td>\n",
       "      <td>...</td>\n",
       "      <td>0.1621</td>\n",
       "      <td>0.2332</td>\n",
       "      <td>0.0711</td>\n",
       "      <td>0.1172</td>\n",
       "      <td>0.2705</td>\n",
       "      <td>0.1533</td>\n",
       "      <td>0.1085</td>\n",
       "      <td>0.2847</td>\n",
       "      <td>0.1762</td>\n",
       "      <td>0.0945</td>\n",
       "    </tr>\n",
       "    <tr>\n",
       "      <th>3</th>\n",
       "      <td>s002</td>\n",
       "      <td>1</td>\n",
       "      <td>4</td>\n",
       "      <td>0.1291</td>\n",
       "      <td>0.2515</td>\n",
       "      <td>0.1224</td>\n",
       "      <td>0.1059</td>\n",
       "      <td>0.2495</td>\n",
       "      <td>0.1436</td>\n",
       "      <td>0.1040</td>\n",
       "      <td>...</td>\n",
       "      <td>0.1457</td>\n",
       "      <td>0.1629</td>\n",
       "      <td>0.0172</td>\n",
       "      <td>0.0866</td>\n",
       "      <td>0.2341</td>\n",
       "      <td>0.1475</td>\n",
       "      <td>0.0845</td>\n",
       "      <td>0.3232</td>\n",
       "      <td>0.2387</td>\n",
       "      <td>0.0813</td>\n",
       "    </tr>\n",
       "    <tr>\n",
       "      <th>4</th>\n",
       "      <td>s002</td>\n",
       "      <td>1</td>\n",
       "      <td>5</td>\n",
       "      <td>0.1249</td>\n",
       "      <td>0.2317</td>\n",
       "      <td>0.1068</td>\n",
       "      <td>0.0895</td>\n",
       "      <td>0.1676</td>\n",
       "      <td>0.0781</td>\n",
       "      <td>0.0903</td>\n",
       "      <td>...</td>\n",
       "      <td>0.1312</td>\n",
       "      <td>0.1582</td>\n",
       "      <td>0.0270</td>\n",
       "      <td>0.0884</td>\n",
       "      <td>0.2517</td>\n",
       "      <td>0.1633</td>\n",
       "      <td>0.0903</td>\n",
       "      <td>0.2517</td>\n",
       "      <td>0.1614</td>\n",
       "      <td>0.0818</td>\n",
       "    </tr>\n",
       "  </tbody>\n",
       "</table>\n",
       "<p>5 rows × 34 columns</p>\n",
       "</div>"
      ],
      "text/plain": [
       "  subject  sessionIndex  rep  H.period  DD.period.t  UD.period.t     H.t  \\\n",
       "0    s002             1    1    0.1491       0.3979       0.2488  0.1069   \n",
       "1    s002             1    2    0.1111       0.3451       0.2340  0.0694   \n",
       "2    s002             1    3    0.1328       0.2072       0.0744  0.0731   \n",
       "3    s002             1    4    0.1291       0.2515       0.1224  0.1059   \n",
       "4    s002             1    5    0.1249       0.2317       0.1068  0.0895   \n",
       "\n",
       "   DD.t.i  UD.t.i     H.i    ...        H.a  DD.a.n  UD.a.n     H.n  DD.n.l  \\\n",
       "0  0.1674  0.0605  0.1169    ...     0.1349  0.1484  0.0135  0.0932  0.3515   \n",
       "1  0.1283  0.0589  0.0908    ...     0.1412  0.2558  0.1146  0.1146  0.2642   \n",
       "2  0.1291  0.0560  0.0821    ...     0.1621  0.2332  0.0711  0.1172  0.2705   \n",
       "3  0.2495  0.1436  0.1040    ...     0.1457  0.1629  0.0172  0.0866  0.2341   \n",
       "4  0.1676  0.0781  0.0903    ...     0.1312  0.1582  0.0270  0.0884  0.2517   \n",
       "\n",
       "   UD.n.l     H.l  DD.l.Return  UD.l.Return  H.Return  \n",
       "0  0.2583  0.1338       0.3509       0.2171    0.0742  \n",
       "1  0.1496  0.0839       0.2756       0.1917    0.0747  \n",
       "2  0.1533  0.1085       0.2847       0.1762    0.0945  \n",
       "3  0.1475  0.0845       0.3232       0.2387    0.0813  \n",
       "4  0.1633  0.0903       0.2517       0.1614    0.0818  \n",
       "\n",
       "[5 rows x 34 columns]"
      ]
     },
     "execution_count": 2,
     "metadata": {},
     "output_type": "execute_result"
    }
   ],
   "source": [
    "df = pd.read_csv('./datasets/data.csv')\n",
    "\n",
    "df.head()"
   ]
  },
  {
   "cell_type": "code",
   "execution_count": 3,
   "metadata": {},
   "outputs": [],
   "source": [
    "subjects = df['subject'].unique()"
   ]
  },
  {
   "cell_type": "code",
   "execution_count": 4,
   "metadata": {},
   "outputs": [],
   "source": [
    "subjects_to_int = {subject: i  for i, subject in enumerate(subjects)}\n",
    "int_to_subjects = {i: subject for i, subject in enumerate(subjects)}"
   ]
  },
  {
   "cell_type": "code",
   "execution_count": 5,
   "metadata": {},
   "outputs": [],
   "source": [
    "df = df.replace(subjects_to_int)"
   ]
  },
  {
   "cell_type": "code",
   "execution_count": 6,
   "metadata": {},
   "outputs": [
    {
     "data": {
      "text/html": [
       "<div>\n",
       "<table border=\"1\" class=\"dataframe\">\n",
       "  <thead>\n",
       "    <tr style=\"text-align: right;\">\n",
       "      <th></th>\n",
       "      <th>subject</th>\n",
       "      <th>sessionIndex</th>\n",
       "      <th>rep</th>\n",
       "      <th>H.period</th>\n",
       "      <th>DD.period.t</th>\n",
       "      <th>UD.period.t</th>\n",
       "      <th>H.t</th>\n",
       "      <th>DD.t.i</th>\n",
       "      <th>UD.t.i</th>\n",
       "      <th>H.i</th>\n",
       "      <th>...</th>\n",
       "      <th>H.a</th>\n",
       "      <th>DD.a.n</th>\n",
       "      <th>UD.a.n</th>\n",
       "      <th>H.n</th>\n",
       "      <th>DD.n.l</th>\n",
       "      <th>UD.n.l</th>\n",
       "      <th>H.l</th>\n",
       "      <th>DD.l.Return</th>\n",
       "      <th>UD.l.Return</th>\n",
       "      <th>H.Return</th>\n",
       "    </tr>\n",
       "  </thead>\n",
       "  <tbody>\n",
       "    <tr>\n",
       "      <th>0</th>\n",
       "      <td>0</td>\n",
       "      <td>1</td>\n",
       "      <td>1</td>\n",
       "      <td>0.1491</td>\n",
       "      <td>0.3979</td>\n",
       "      <td>0.2488</td>\n",
       "      <td>0.1069</td>\n",
       "      <td>0.1674</td>\n",
       "      <td>0.0605</td>\n",
       "      <td>0.1169</td>\n",
       "      <td>...</td>\n",
       "      <td>0.1349</td>\n",
       "      <td>0.1484</td>\n",
       "      <td>0.0135</td>\n",
       "      <td>0.0932</td>\n",
       "      <td>0.3515</td>\n",
       "      <td>0.2583</td>\n",
       "      <td>0.1338</td>\n",
       "      <td>0.3509</td>\n",
       "      <td>0.2171</td>\n",
       "      <td>0.0742</td>\n",
       "    </tr>\n",
       "    <tr>\n",
       "      <th>1</th>\n",
       "      <td>0</td>\n",
       "      <td>1</td>\n",
       "      <td>2</td>\n",
       "      <td>0.1111</td>\n",
       "      <td>0.3451</td>\n",
       "      <td>0.2340</td>\n",
       "      <td>0.0694</td>\n",
       "      <td>0.1283</td>\n",
       "      <td>0.0589</td>\n",
       "      <td>0.0908</td>\n",
       "      <td>...</td>\n",
       "      <td>0.1412</td>\n",
       "      <td>0.2558</td>\n",
       "      <td>0.1146</td>\n",
       "      <td>0.1146</td>\n",
       "      <td>0.2642</td>\n",
       "      <td>0.1496</td>\n",
       "      <td>0.0839</td>\n",
       "      <td>0.2756</td>\n",
       "      <td>0.1917</td>\n",
       "      <td>0.0747</td>\n",
       "    </tr>\n",
       "    <tr>\n",
       "      <th>2</th>\n",
       "      <td>0</td>\n",
       "      <td>1</td>\n",
       "      <td>3</td>\n",
       "      <td>0.1328</td>\n",
       "      <td>0.2072</td>\n",
       "      <td>0.0744</td>\n",
       "      <td>0.0731</td>\n",
       "      <td>0.1291</td>\n",
       "      <td>0.0560</td>\n",
       "      <td>0.0821</td>\n",
       "      <td>...</td>\n",
       "      <td>0.1621</td>\n",
       "      <td>0.2332</td>\n",
       "      <td>0.0711</td>\n",
       "      <td>0.1172</td>\n",
       "      <td>0.2705</td>\n",
       "      <td>0.1533</td>\n",
       "      <td>0.1085</td>\n",
       "      <td>0.2847</td>\n",
       "      <td>0.1762</td>\n",
       "      <td>0.0945</td>\n",
       "    </tr>\n",
       "    <tr>\n",
       "      <th>3</th>\n",
       "      <td>0</td>\n",
       "      <td>1</td>\n",
       "      <td>4</td>\n",
       "      <td>0.1291</td>\n",
       "      <td>0.2515</td>\n",
       "      <td>0.1224</td>\n",
       "      <td>0.1059</td>\n",
       "      <td>0.2495</td>\n",
       "      <td>0.1436</td>\n",
       "      <td>0.1040</td>\n",
       "      <td>...</td>\n",
       "      <td>0.1457</td>\n",
       "      <td>0.1629</td>\n",
       "      <td>0.0172</td>\n",
       "      <td>0.0866</td>\n",
       "      <td>0.2341</td>\n",
       "      <td>0.1475</td>\n",
       "      <td>0.0845</td>\n",
       "      <td>0.3232</td>\n",
       "      <td>0.2387</td>\n",
       "      <td>0.0813</td>\n",
       "    </tr>\n",
       "    <tr>\n",
       "      <th>4</th>\n",
       "      <td>0</td>\n",
       "      <td>1</td>\n",
       "      <td>5</td>\n",
       "      <td>0.1249</td>\n",
       "      <td>0.2317</td>\n",
       "      <td>0.1068</td>\n",
       "      <td>0.0895</td>\n",
       "      <td>0.1676</td>\n",
       "      <td>0.0781</td>\n",
       "      <td>0.0903</td>\n",
       "      <td>...</td>\n",
       "      <td>0.1312</td>\n",
       "      <td>0.1582</td>\n",
       "      <td>0.0270</td>\n",
       "      <td>0.0884</td>\n",
       "      <td>0.2517</td>\n",
       "      <td>0.1633</td>\n",
       "      <td>0.0903</td>\n",
       "      <td>0.2517</td>\n",
       "      <td>0.1614</td>\n",
       "      <td>0.0818</td>\n",
       "    </tr>\n",
       "  </tbody>\n",
       "</table>\n",
       "<p>5 rows × 34 columns</p>\n",
       "</div>"
      ],
      "text/plain": [
       "   subject  sessionIndex  rep  H.period  DD.period.t  UD.period.t     H.t  \\\n",
       "0        0             1    1    0.1491       0.3979       0.2488  0.1069   \n",
       "1        0             1    2    0.1111       0.3451       0.2340  0.0694   \n",
       "2        0             1    3    0.1328       0.2072       0.0744  0.0731   \n",
       "3        0             1    4    0.1291       0.2515       0.1224  0.1059   \n",
       "4        0             1    5    0.1249       0.2317       0.1068  0.0895   \n",
       "\n",
       "   DD.t.i  UD.t.i     H.i    ...        H.a  DD.a.n  UD.a.n     H.n  DD.n.l  \\\n",
       "0  0.1674  0.0605  0.1169    ...     0.1349  0.1484  0.0135  0.0932  0.3515   \n",
       "1  0.1283  0.0589  0.0908    ...     0.1412  0.2558  0.1146  0.1146  0.2642   \n",
       "2  0.1291  0.0560  0.0821    ...     0.1621  0.2332  0.0711  0.1172  0.2705   \n",
       "3  0.2495  0.1436  0.1040    ...     0.1457  0.1629  0.0172  0.0866  0.2341   \n",
       "4  0.1676  0.0781  0.0903    ...     0.1312  0.1582  0.0270  0.0884  0.2517   \n",
       "\n",
       "   UD.n.l     H.l  DD.l.Return  UD.l.Return  H.Return  \n",
       "0  0.2583  0.1338       0.3509       0.2171    0.0742  \n",
       "1  0.1496  0.0839       0.2756       0.1917    0.0747  \n",
       "2  0.1533  0.1085       0.2847       0.1762    0.0945  \n",
       "3  0.1475  0.0845       0.3232       0.2387    0.0813  \n",
       "4  0.1633  0.0903       0.2517       0.1614    0.0818  \n",
       "\n",
       "[5 rows x 34 columns]"
      ]
     },
     "execution_count": 6,
     "metadata": {},
     "output_type": "execute_result"
    }
   ],
   "source": [
    "df.head()"
   ]
  },
  {
   "cell_type": "code",
   "execution_count": 7,
   "metadata": {},
   "outputs": [],
   "source": [
    "data = df.as_matrix()"
   ]
  },
  {
   "cell_type": "code",
   "execution_count": 8,
   "metadata": {},
   "outputs": [],
   "source": [
    "def generate_positives(data, n_pos_per_subject=150):\n",
    "    n_subjects = np.unique(data[:, 0]).shape[0]\n",
    "    poss = []\n",
    "    for i in range(n_subjects):\n",
    "        temp_d = data[data[:, 0] == i]\n",
    "        first_half = temp_d[np.random.choice(400, n_pos_per_subject), 3:-1]\n",
    "        second_half = temp_d[np.random.choice(400, n_pos_per_subject), 3:-1]\n",
    "        poss.append(np.hstack([first_half, second_half]))\n",
    "    return np.vstack(poss)"
   ]
  },
  {
   "cell_type": "code",
   "execution_count": 9,
   "metadata": {},
   "outputs": [
    {
     "data": {
      "text/plain": [
       "(7650, 60)"
      ]
     },
     "execution_count": 9,
     "metadata": {},
     "output_type": "execute_result"
    }
   ],
   "source": [
    "poss = generate_positives(data)\n",
    "poss.shape"
   ]
  },
  {
   "cell_type": "code",
   "execution_count": 10,
   "metadata": {},
   "outputs": [],
   "source": [
    "def generate_negatives(data, n_neg_per_subject=150):\n",
    "    n_subjects = np.unique(data[:, 0]).shape[0]\n",
    "    negs = []\n",
    "    for i in range(n_subjects):\n",
    "        temp_d = data[data[:, 0] == i]\n",
    "        temp_not_d = data[data[:, 0] != i]\n",
    "        first_half = temp_d[np.random.choice(400, n_neg_per_subject), 3:-1]\n",
    "        second_half = temp_not_d[np.random.choice(400, n_neg_per_subject), 3:-1]\n",
    "        negs.append(np.hstack([first_half, second_half]))\n",
    "    return np.vstack(negs)"
   ]
  },
  {
   "cell_type": "code",
   "execution_count": 11,
   "metadata": {},
   "outputs": [
    {
     "data": {
      "text/plain": [
       "(7650, 60)"
      ]
     },
     "execution_count": 11,
     "metadata": {},
     "output_type": "execute_result"
    }
   ],
   "source": [
    "negs = generate_negatives(data)\n",
    "negs.shape"
   ]
  },
  {
   "cell_type": "code",
   "execution_count": 12,
   "metadata": {},
   "outputs": [
    {
     "data": {
      "text/plain": [
       "(15300, 1)"
      ]
     },
     "execution_count": 12,
     "metadata": {},
     "output_type": "execute_result"
    }
   ],
   "source": [
    "labels = np.zeros(poss.shape[0] + negs.shape[0])\n",
    "labels[:poss.shape[0]] = 1\n",
    "labels = np.expand_dims(labels, axis=1)\n",
    "labels.shape"
   ]
  },
  {
   "cell_type": "code",
   "execution_count": 13,
   "metadata": {},
   "outputs": [
    {
     "data": {
      "text/plain": [
       "array([[ 0.1024,  0.1622,  0.0598, ...,  0.3598,  0.2524,  1.    ],\n",
       "       [ 0.1074,  0.1525,  0.0451, ...,  0.2532,  0.1466,  1.    ],\n",
       "       [ 0.0953,  0.1032,  0.0079, ...,  0.2263,  0.1413,  1.    ],\n",
       "       ..., \n",
       "       [ 0.0765,  0.1231,  0.0466, ...,  0.192 ,  0.1073,  0.    ],\n",
       "       [ 0.1031,  0.1049,  0.0018, ...,  0.2313,  0.1252,  0.    ],\n",
       "       [ 0.1055,  0.1089,  0.0034, ...,  0.2089,  0.1279,  0.    ]])"
      ]
     },
     "execution_count": 13,
     "metadata": {},
     "output_type": "execute_result"
    }
   ],
   "source": [
    "all_data = np.hstack([np.vstack([poss, negs]), labels])\n",
    "all_data"
   ]
  },
  {
   "cell_type": "code",
   "execution_count": 14,
   "metadata": {},
   "outputs": [],
   "source": [
    "np.random.shuffle(all_data)"
   ]
  },
  {
   "cell_type": "code",
   "execution_count": 15,
   "metadata": {},
   "outputs": [],
   "source": [
    "all_data_t = np.zeros((all_data.shape[0], 15, 4))\n",
    "\n",
    "ctr = 0\n",
    "for i, j in zip(range(0, 30, 2), range(30, 60, 2)):\n",
    "    all_data_t[:, ctr, :] = np.hstack([all_data[:, i:i+2], all_data[:, j:j+2]])\n",
    "    ctr += 1"
   ]
  },
  {
   "cell_type": "code",
   "execution_count": 16,
   "metadata": {},
   "outputs": [],
   "source": [
    "X, y = all_data_t, all_data[:, -1]"
   ]
  },
  {
   "cell_type": "markdown",
   "metadata": {},
   "source": [
    "## Training Phase\n",
    "This Phase defines parameters of the model, the model itself along with its training to produce a simple RNN that can predict whether a person is the genuine holder of account or not."
   ]
  },
  {
   "cell_type": "markdown",
   "metadata": {},
   "source": [
    "### Some Params and HyperParams"
   ]
  },
  {
   "cell_type": "code",
   "execution_count": 17,
   "metadata": {},
   "outputs": [
    {
     "name": "stderr",
     "output_type": "stream",
     "text": [
      "Using TensorFlow backend.\n"
     ]
    }
   ],
   "source": [
    "from keras.layers import Dense, Activation, Dropout, Input, LSTM, Reshape, Lambda, RepeatVector, Concatenate\n",
    "from keras.initializers import glorot_uniform\n",
    "from keras.utils import to_categorical\n",
    "from keras.models import Model\n",
    "from keras.optimizers import Adam"
   ]
  },
  {
   "cell_type": "code",
   "execution_count": 18,
   "metadata": {},
   "outputs": [],
   "source": [
    "VALIDATION_SPLIT = 0.1\n",
    "\n",
    "INPUT_SHAPE = [None, 2]\n",
    "\n",
    "BATCH_SIZE = 32\n",
    "\n",
    "EPOCHS = 20"
   ]
  },
  {
   "cell_type": "code",
   "execution_count": 19,
   "metadata": {},
   "outputs": [],
   "source": [
    "def train_dev_split(x, y, val_split=0.1):\n",
    "    m = x.shape[0]\n",
    "    val_size = int(0.1 * m)\n",
    "    return x[:-val_size], y[:, :-val_size, :], x[-val_size:], y[:, -val_size:, :]"
   ]
  },
  {
   "cell_type": "code",
   "execution_count": 20,
   "metadata": {},
   "outputs": [],
   "source": [
    "y = to_categorical(y)\n",
    "\n",
    "y_ = np.zeros((15, y.shape[0], y.shape[1]))\n",
    "\n",
    "for i in range(15):\n",
    "    y_[i, :, :] = y"
   ]
  },
  {
   "cell_type": "code",
   "execution_count": 21,
   "metadata": {},
   "outputs": [
    {
     "data": {
      "text/plain": [
       "(array([ 0.,  1.]), array([ 0.,  1.]))"
      ]
     },
     "execution_count": 21,
     "metadata": {},
     "output_type": "execute_result"
    }
   ],
   "source": [
    "y_[0, 0, :], y[0]"
   ]
  },
  {
   "cell_type": "code",
   "execution_count": 22,
   "metadata": {},
   "outputs": [
    {
     "data": {
      "text/plain": [
       "((13770, 15, 4), (15, 13770, 2), (1530, 15, 4), (15, 1530, 2))"
      ]
     },
     "execution_count": 22,
     "metadata": {},
     "output_type": "execute_result"
    }
   ],
   "source": [
    "x_train, y_train, x_test, y_test = train_dev_split(X, y_)\n",
    "\n",
    "x_train.shape, y_train.shape, x_test.shape, y_test.shape"
   ]
  },
  {
   "cell_type": "code",
   "execution_count": 23,
   "metadata": {},
   "outputs": [],
   "source": [
    "n_a = 10\n",
    "n_out = 2"
   ]
  },
  {
   "cell_type": "code",
   "execution_count": 24,
   "metadata": {},
   "outputs": [],
   "source": [
    "reshapor = Reshape((1, 4))\n",
    "LSTM_cell = LSTM(n_a, return_state = True)\n",
    "densor = Dense(n_out, activation='softmax')"
   ]
  },
  {
   "cell_type": "code",
   "execution_count": 25,
   "metadata": {},
   "outputs": [],
   "source": [
    "def keystroke_model(Tx, n_in, n_a, n_out):\n",
    "    X = Input(shape=(Tx, n_in))\n",
    "    \n",
    "    a0 = Input(shape=(n_a,), name='a0')\n",
    "    c0 = Input(shape=(n_a,), name='c0')\n",
    "    a = a0\n",
    "    c = c0\n",
    "    \n",
    "    outputs = []\n",
    "\n",
    "    for t in range(Tx):\n",
    "         \n",
    "        x = Lambda(lambda x: X[:, t, :])(X)\n",
    "        x = reshapor(x)\n",
    "\n",
    "        a, _, c = LSTM_cell(x, initial_state=[a, c])\n",
    "\n",
    "        out = densor(a)\n",
    "\n",
    "        outputs.append(out)\n",
    "\n",
    "    model = Model(inputs=[X, a0, c0], outputs=outputs)\n",
    "    \n",
    "    return model"
   ]
  },
  {
   "cell_type": "code",
   "execution_count": 26,
   "metadata": {},
   "outputs": [],
   "source": [
    "model = keystroke_model(15, 4, n_a, n_out)"
   ]
  },
  {
   "cell_type": "code",
   "execution_count": 27,
   "metadata": {},
   "outputs": [],
   "source": [
    "opt = Adam(lr=0.01, beta_1=0.9, beta_2=0.999, decay=0.01)\n",
    "\n",
    "model.compile(optimizer=opt, loss='categorical_crossentropy', metrics=['accuracy'])"
   ]
  },
  {
   "cell_type": "code",
   "execution_count": 28,
   "metadata": {},
   "outputs": [
    {
     "name": "stdout",
     "output_type": "stream",
     "text": [
      "__________________________________________________________________________________________________\n",
      "Layer (type)                    Output Shape         Param #     Connected to                     \n",
      "==================================================================================================\n",
      "input_1 (InputLayer)            (None, 15, 4)        0                                            \n",
      "__________________________________________________________________________________________________\n",
      "lambda_1 (Lambda)               (None, 4)            0           input_1[0][0]                    \n",
      "__________________________________________________________________________________________________\n",
      "reshape_1 (Reshape)             (None, 1, 4)         0           lambda_1[0][0]                   \n",
      "                                                                 lambda_2[0][0]                   \n",
      "                                                                 lambda_3[0][0]                   \n",
      "                                                                 lambda_4[0][0]                   \n",
      "                                                                 lambda_5[0][0]                   \n",
      "                                                                 lambda_6[0][0]                   \n",
      "                                                                 lambda_7[0][0]                   \n",
      "                                                                 lambda_8[0][0]                   \n",
      "                                                                 lambda_9[0][0]                   \n",
      "                                                                 lambda_10[0][0]                  \n",
      "                                                                 lambda_11[0][0]                  \n",
      "                                                                 lambda_12[0][0]                  \n",
      "                                                                 lambda_13[0][0]                  \n",
      "                                                                 lambda_14[0][0]                  \n",
      "                                                                 lambda_15[0][0]                  \n",
      "__________________________________________________________________________________________________\n",
      "a0 (InputLayer)                 (None, 10)           0                                            \n",
      "__________________________________________________________________________________________________\n",
      "c0 (InputLayer)                 (None, 10)           0                                            \n",
      "__________________________________________________________________________________________________\n",
      "lambda_2 (Lambda)               (None, 4)            0           input_1[0][0]                    \n",
      "__________________________________________________________________________________________________\n",
      "lstm_1 (LSTM)                   [(None, 10), (None,  600         reshape_1[0][0]                  \n",
      "                                                                 a0[0][0]                         \n",
      "                                                                 c0[0][0]                         \n",
      "                                                                 reshape_1[1][0]                  \n",
      "                                                                 lstm_1[0][0]                     \n",
      "                                                                 lstm_1[0][2]                     \n",
      "                                                                 reshape_1[2][0]                  \n",
      "                                                                 lstm_1[1][0]                     \n",
      "                                                                 lstm_1[1][2]                     \n",
      "                                                                 reshape_1[3][0]                  \n",
      "                                                                 lstm_1[2][0]                     \n",
      "                                                                 lstm_1[2][2]                     \n",
      "                                                                 reshape_1[4][0]                  \n",
      "                                                                 lstm_1[3][0]                     \n",
      "                                                                 lstm_1[3][2]                     \n",
      "                                                                 reshape_1[5][0]                  \n",
      "                                                                 lstm_1[4][0]                     \n",
      "                                                                 lstm_1[4][2]                     \n",
      "                                                                 reshape_1[6][0]                  \n",
      "                                                                 lstm_1[5][0]                     \n",
      "                                                                 lstm_1[5][2]                     \n",
      "                                                                 reshape_1[7][0]                  \n",
      "                                                                 lstm_1[6][0]                     \n",
      "                                                                 lstm_1[6][2]                     \n",
      "                                                                 reshape_1[8][0]                  \n",
      "                                                                 lstm_1[7][0]                     \n",
      "                                                                 lstm_1[7][2]                     \n",
      "                                                                 reshape_1[9][0]                  \n",
      "                                                                 lstm_1[8][0]                     \n",
      "                                                                 lstm_1[8][2]                     \n",
      "                                                                 reshape_1[10][0]                 \n",
      "                                                                 lstm_1[9][0]                     \n",
      "                                                                 lstm_1[9][2]                     \n",
      "                                                                 reshape_1[11][0]                 \n",
      "                                                                 lstm_1[10][0]                    \n",
      "                                                                 lstm_1[10][2]                    \n",
      "                                                                 reshape_1[12][0]                 \n",
      "                                                                 lstm_1[11][0]                    \n",
      "                                                                 lstm_1[11][2]                    \n",
      "                                                                 reshape_1[13][0]                 \n",
      "                                                                 lstm_1[12][0]                    \n",
      "                                                                 lstm_1[12][2]                    \n",
      "                                                                 reshape_1[14][0]                 \n",
      "                                                                 lstm_1[13][0]                    \n",
      "                                                                 lstm_1[13][2]                    \n",
      "__________________________________________________________________________________________________\n",
      "lambda_3 (Lambda)               (None, 4)            0           input_1[0][0]                    \n",
      "__________________________________________________________________________________________________\n",
      "lambda_4 (Lambda)               (None, 4)            0           input_1[0][0]                    \n",
      "__________________________________________________________________________________________________\n",
      "lambda_5 (Lambda)               (None, 4)            0           input_1[0][0]                    \n",
      "__________________________________________________________________________________________________\n",
      "lambda_6 (Lambda)               (None, 4)            0           input_1[0][0]                    \n",
      "__________________________________________________________________________________________________\n",
      "lambda_7 (Lambda)               (None, 4)            0           input_1[0][0]                    \n",
      "__________________________________________________________________________________________________\n",
      "lambda_8 (Lambda)               (None, 4)            0           input_1[0][0]                    \n",
      "__________________________________________________________________________________________________\n",
      "lambda_9 (Lambda)               (None, 4)            0           input_1[0][0]                    \n",
      "__________________________________________________________________________________________________\n",
      "lambda_10 (Lambda)              (None, 4)            0           input_1[0][0]                    \n",
      "__________________________________________________________________________________________________\n",
      "lambda_11 (Lambda)              (None, 4)            0           input_1[0][0]                    \n",
      "__________________________________________________________________________________________________\n",
      "lambda_12 (Lambda)              (None, 4)            0           input_1[0][0]                    \n",
      "__________________________________________________________________________________________________\n",
      "lambda_13 (Lambda)              (None, 4)            0           input_1[0][0]                    \n",
      "__________________________________________________________________________________________________\n",
      "lambda_14 (Lambda)              (None, 4)            0           input_1[0][0]                    \n",
      "__________________________________________________________________________________________________\n",
      "lambda_15 (Lambda)              (None, 4)            0           input_1[0][0]                    \n",
      "__________________________________________________________________________________________________\n",
      "dense_1 (Dense)                 (None, 2)            22          lstm_1[0][0]                     \n",
      "                                                                 lstm_1[1][0]                     \n",
      "                                                                 lstm_1[2][0]                     \n",
      "                                                                 lstm_1[3][0]                     \n",
      "                                                                 lstm_1[4][0]                     \n",
      "                                                                 lstm_1[5][0]                     \n",
      "                                                                 lstm_1[6][0]                     \n",
      "                                                                 lstm_1[7][0]                     \n",
      "                                                                 lstm_1[8][0]                     \n",
      "                                                                 lstm_1[9][0]                     \n",
      "                                                                 lstm_1[10][0]                    \n",
      "                                                                 lstm_1[11][0]                    \n",
      "                                                                 lstm_1[12][0]                    \n",
      "                                                                 lstm_1[13][0]                    \n",
      "                                                                 lstm_1[14][0]                    \n",
      "==================================================================================================\n",
      "Total params: 622\n",
      "Trainable params: 622\n",
      "Non-trainable params: 0\n",
      "__________________________________________________________________________________________________\n"
     ]
    }
   ],
   "source": [
    "model.summary()"
   ]
  },
  {
   "cell_type": "code",
   "execution_count": 29,
   "metadata": {},
   "outputs": [],
   "source": [
    "m = x_train.shape[0]\n",
    "a0 = np.zeros((m, n_a))\n",
    "c0 = np.zeros((m, n_a))"
   ]
  },
  {
   "cell_type": "code",
   "execution_count": 31,
   "metadata": {},
   "outputs": [
    {
     "name": "stdout",
     "output_type": "stream",
     "text": [
      "Epoch 1/10\n",
      "13770/13770 [==============================] - 56s 4ms/step - loss: 10.3848 - dense_1_loss_1: 0.6944 - dense_1_loss_2: 0.6916 - dense_1_loss_3: 0.6912 - dense_1_loss_4: 0.6914 - dense_1_loss_5: 0.6906 - dense_1_loss_6: 0.6920 - dense_1_loss_7: 0.6923 - dense_1_loss_8: 0.6927 - dense_1_loss_9: 0.6925 - dense_1_loss_10: 0.6931 - dense_1_loss_11: 0.6929 - dense_1_loss_12: 0.6928 - dense_1_loss_13: 0.6927 - dense_1_loss_14: 0.6927 - dense_1_loss_15: 0.6918 - dense_1_acc_1: 0.4810 - dense_1_acc_2: 0.5246 - dense_1_acc_3: 0.5251 - dense_1_acc_4: 0.5248 - dense_1_acc_5: 0.5301 - dense_1_acc_6: 0.5130 - dense_1_acc_7: 0.5113 - dense_1_acc_8: 0.5106 - dense_1_acc_9: 0.5076 - dense_1_acc_10: 0.5081 - dense_1_acc_11: 0.5081 - dense_1_acc_12: 0.5078 - dense_1_acc_13: 0.5093 - dense_1_acc_14: 0.5089 - dense_1_acc_15: 0.5086: 11s - loss: 10.3932 - dense_1_loss_1: 0.6946 - dense_1_loss_2: 0.6922 - dense_1_loss_3: 0.6920 - dense_1_loss_4: 0.6922 - dense_1_loss_5: 0.6916 - dense_1_loss_6: 0.6925 - dense_1_loss_7: 0.6928 - dense_1_loss_8: 0.6930 - dense_1_loss_9: 0.6932 - dense_1_loss_10: 0.6935 - dense_1_loss_11: 0.6933 - dense_1_loss_12: 0.6933 - dense_1_loss_13: 0.6932 - dense_1_loss_14: 0.6932 - dense_1_loss_15: 0.6927 - dense_1_acc_1: 0.4784 - dense_1_acc_2: 0.5163 - dense_1_acc_3: 0.5151 - dense_1_acc_4: 0.5158 - dense_1_acc_5: 0.5212 - dense_1_acc_6: 0.5150 - dense_1_acc_7: 0.5135 - dense_1_acc_8: 0.5130 - dense_1_acc_9: 0.5055 - dense_1_acc_10: 0.5064 - dense_1_acc_11: 0.50\n",
      "Epoch 2/10\n",
      "13770/13770 [==============================] - 49s 4ms/step - loss: 9.6077 - dense_1_loss_1: 0.6934 - dense_1_loss_2: 0.6853 - dense_1_loss_3: 0.6792 - dense_1_loss_4: 0.6721 - dense_1_loss_5: 0.6626 - dense_1_loss_6: 0.6462 - dense_1_loss_7: 0.6392 - dense_1_loss_8: 0.6265 - dense_1_loss_9: 0.6190 - dense_1_loss_10: 0.6149 - dense_1_loss_11: 0.6108 - dense_1_loss_12: 0.6105 - dense_1_loss_13: 0.6103 - dense_1_loss_14: 0.6139 - dense_1_loss_15: 0.6240 - dense_1_acc_1: 0.4833 - dense_1_acc_2: 0.5985 - dense_1_acc_3: 0.6121 - dense_1_acc_4: 0.6129 - dense_1_acc_5: 0.6158 - dense_1_acc_6: 0.6251 - dense_1_acc_7: 0.6381 - dense_1_acc_8: 0.6356 - dense_1_acc_9: 0.6411 - dense_1_acc_10: 0.6469 - dense_1_acc_11: 0.6493 - dense_1_acc_12: 0.6477 - dense_1_acc_13: 0.6486 - dense_1_acc_14: 0.6434 - dense_1_acc_15: 0.6433\n",
      "Epoch 3/10\n",
      "13770/13770 [==============================] - 49s 4ms/step - loss: 9.0376 - dense_1_loss_1: 0.6912 - dense_1_loss_2: 0.6796 - dense_1_loss_3: 0.6677 - dense_1_loss_4: 0.6541 - dense_1_loss_5: 0.6386 - dense_1_loss_6: 0.6075 - dense_1_loss_7: 0.5959 - dense_1_loss_8: 0.5776 - dense_1_loss_9: 0.5702 - dense_1_loss_10: 0.5629 - dense_1_loss_11: 0.5564 - dense_1_loss_12: 0.5562 - dense_1_loss_13: 0.5541 - dense_1_loss_14: 0.5566 - dense_1_loss_15: 0.5688 - dense_1_acc_1: 0.5065 - dense_1_acc_2: 0.6169 - dense_1_acc_3: 0.6268 - dense_1_acc_4: 0.6336 - dense_1_acc_5: 0.6393 - dense_1_acc_6: 0.6777 - dense_1_acc_7: 0.7076 - dense_1_acc_8: 0.7195 - dense_1_acc_9: 0.7211 - dense_1_acc_10: 0.7277 - dense_1_acc_11: 0.7283 - dense_1_acc_12: 0.7275 - dense_1_acc_13: 0.7284 - dense_1_acc_14: 0.7253 - dense_1_acc_15: 0.7248\n",
      "Epoch 4/10\n",
      "13770/13770 [==============================] - 53s 4ms/step - loss: 8.7896 - dense_1_loss_1: 0.6898 - dense_1_loss_2: 0.6765 - dense_1_loss_3: 0.6621 - dense_1_loss_4: 0.6466 - dense_1_loss_5: 0.6297 - dense_1_loss_6: 0.5935 - dense_1_loss_7: 0.5781 - dense_1_loss_8: 0.5577 - dense_1_loss_9: 0.5499 - dense_1_loss_10: 0.5406 - dense_1_loss_11: 0.5328 - dense_1_loss_12: 0.5324 - dense_1_loss_13: 0.5293 - dense_1_loss_14: 0.5303 - dense_1_loss_15: 0.5402 - dense_1_acc_1: 0.5075 - dense_1_acc_2: 0.6200 - dense_1_acc_3: 0.6325 - dense_1_acc_4: 0.6382 - dense_1_acc_5: 0.6402 - dense_1_acc_6: 0.6963 - dense_1_acc_7: 0.7275 - dense_1_acc_8: 0.7453 - dense_1_acc_9: 0.7449 - dense_1_acc_10: 0.7474 - dense_1_acc_11: 0.7522 - dense_1_acc_12: 0.7502 - dense_1_acc_13: 0.7530 - dense_1_acc_14: 0.7525 - dense_1_acc_15: 0.7527\n",
      "Epoch 5/10\n",
      "13770/13770 [==============================] - 50s 4ms/step - loss: 8.6522 - dense_1_loss_1: 0.6887 - dense_1_loss_2: 0.6739 - dense_1_loss_3: 0.6579 - dense_1_loss_4: 0.6412 - dense_1_loss_5: 0.6236 - dense_1_loss_6: 0.5845 - dense_1_loss_7: 0.5674 - dense_1_loss_8: 0.5466 - dense_1_loss_9: 0.5389 - dense_1_loss_10: 0.5292 - dense_1_loss_11: 0.5208 - dense_1_loss_12: 0.5201 - dense_1_loss_13: 0.5168 - dense_1_loss_14: 0.5172 - dense_1_loss_15: 0.5254 - dense_1_acc_1: 0.5094 - dense_1_acc_2: 0.6211 - dense_1_acc_3: 0.6336 - dense_1_acc_4: 0.6452 - dense_1_acc_5: 0.6438 - dense_1_acc_6: 0.7056 - dense_1_acc_7: 0.7328 - dense_1_acc_8: 0.7508 - dense_1_acc_9: 0.7524 - dense_1_acc_10: 0.7554 - dense_1_acc_11: 0.7601 - dense_1_acc_12: 0.7588 - dense_1_acc_13: 0.7614 - dense_1_acc_14: 0.7630 - dense_1_acc_15: 0.7628\n",
      "Epoch 6/10\n",
      "13770/13770 [==============================] - 50s 4ms/step - loss: 8.5593 - dense_1_loss_1: 0.6877 - dense_1_loss_2: 0.6717 - dense_1_loss_3: 0.6544 - dense_1_loss_4: 0.6365 - dense_1_loss_5: 0.6186 - dense_1_loss_6: 0.5780 - dense_1_loss_7: 0.5602 - dense_1_loss_8: 0.5397 - dense_1_loss_9: 0.5321 - dense_1_loss_10: 0.5218 - dense_1_loss_11: 0.5131 - dense_1_loss_12: 0.5124 - dense_1_loss_13: 0.5086 - dense_1_loss_14: 0.5085 - dense_1_loss_15: 0.5161 - dense_1_acc_1: 0.5081 - dense_1_acc_2: 0.6282 - dense_1_acc_3: 0.6383 - dense_1_acc_4: 0.6476 - dense_1_acc_5: 0.6470 - dense_1_acc_6: 0.7078 - dense_1_acc_7: 0.7378 - dense_1_acc_8: 0.7574 - dense_1_acc_9: 0.7574 - dense_1_acc_10: 0.7619 - dense_1_acc_11: 0.7644 - dense_1_acc_12: 0.7639 - dense_1_acc_13: 0.7658 - dense_1_acc_14: 0.7679 - dense_1_acc_15: 0.7676\n",
      "Epoch 7/10\n",
      "13770/13770 [==============================] - 51s 4ms/step - loss: 8.5034 - dense_1_loss_1: 0.6868 - dense_1_loss_2: 0.6698 - dense_1_loss_3: 0.6514 - dense_1_loss_4: 0.6328 - dense_1_loss_5: 0.6147 - dense_1_loss_6: 0.5735 - dense_1_loss_7: 0.5555 - dense_1_loss_8: 0.5358 - dense_1_loss_9: 0.5283 - dense_1_loss_10: 0.5176 - dense_1_loss_11: 0.5087 - dense_1_loss_12: 0.5081 - dense_1_loss_13: 0.5042 - dense_1_loss_14: 0.5044 - dense_1_loss_15: 0.5118 - dense_1_acc_1: 0.5094 - dense_1_acc_2: 0.6304 - dense_1_acc_3: 0.6410 - dense_1_acc_4: 0.6476 - dense_1_acc_5: 0.6470 - dense_1_acc_6: 0.7105 - dense_1_acc_7: 0.7394 - dense_1_acc_8: 0.7588 - dense_1_acc_9: 0.7577 - dense_1_acc_10: 0.7635 - dense_1_acc_11: 0.7676 - dense_1_acc_12: 0.7670 - dense_1_acc_13: 0.7698 - dense_1_acc_14: 0.7710 - dense_1_acc_15: 0.7702\n",
      "Epoch 8/10\n",
      "13770/13770 [==============================] - 51s 4ms/step - loss: 8.4593 - dense_1_loss_1: 0.6861 - dense_1_loss_2: 0.6684 - dense_1_loss_3: 0.6493 - dense_1_loss_4: 0.6298 - dense_1_loss_5: 0.6115 - dense_1_loss_6: 0.5701 - dense_1_loss_7: 0.5525 - dense_1_loss_8: 0.5334 - dense_1_loss_9: 0.5259 - dense_1_loss_10: 0.5143 - dense_1_loss_11: 0.5050 - dense_1_loss_12: 0.5044 - dense_1_loss_13: 0.5003 - dense_1_loss_14: 0.5003 - dense_1_loss_15: 0.5079 - dense_1_acc_1: 0.5147 - dense_1_acc_2: 0.6299 - dense_1_acc_3: 0.6415 - dense_1_acc_4: 0.6495 - dense_1_acc_5: 0.6468 - dense_1_acc_6: 0.7113 - dense_1_acc_7: 0.7410 - dense_1_acc_8: 0.7611 - dense_1_acc_9: 0.7605 - dense_1_acc_10: 0.7646 - dense_1_acc_11: 0.7709 - dense_1_acc_12: 0.7683 - dense_1_acc_13: 0.7714 - dense_1_acc_14: 0.7745 - dense_1_acc_15: 0.7747\n",
      "Epoch 9/10\n",
      "13770/13770 [==============================] - 51s 4ms/step - loss: 8.4227 - dense_1_loss_1: 0.6855 - dense_1_loss_2: 0.6675 - dense_1_loss_3: 0.6478 - dense_1_loss_4: 0.6282 - dense_1_loss_5: 0.6105 - dense_1_loss_6: 0.5681 - dense_1_loss_7: 0.5491 - dense_1_loss_8: 0.5302 - dense_1_loss_9: 0.5228 - dense_1_loss_10: 0.5106 - dense_1_loss_11: 0.5012 - dense_1_loss_12: 0.5010 - dense_1_loss_13: 0.4971 - dense_1_loss_14: 0.4975 - dense_1_loss_15: 0.5058 - dense_1_acc_1: 0.5182 - dense_1_acc_2: 0.6318 - dense_1_acc_3: 0.6430 - dense_1_acc_4: 0.6506 - dense_1_acc_5: 0.6499 - dense_1_acc_6: 0.7138 - dense_1_acc_7: 0.7463 - dense_1_acc_8: 0.7618 - dense_1_acc_9: 0.7622 - dense_1_acc_10: 0.7650 - dense_1_acc_11: 0.7714 - dense_1_acc_12: 0.7697 - dense_1_acc_13: 0.7744 - dense_1_acc_14: 0.7765 - dense_1_acc_15: 0.7749\n",
      "Epoch 10/10\n"
     ]
    },
    {
     "name": "stdout",
     "output_type": "stream",
     "text": [
      "13770/13770 [==============================] - 50s 4ms/step - loss: 8.3825 - dense_1_loss_1: 0.6850 - dense_1_loss_2: 0.6665 - dense_1_loss_3: 0.6463 - dense_1_loss_4: 0.6262 - dense_1_loss_5: 0.6081 - dense_1_loss_6: 0.5651 - dense_1_loss_7: 0.5465 - dense_1_loss_8: 0.5276 - dense_1_loss_9: 0.5200 - dense_1_loss_10: 0.5072 - dense_1_loss_11: 0.4977 - dense_1_loss_12: 0.4974 - dense_1_loss_13: 0.4934 - dense_1_loss_14: 0.4936 - dense_1_loss_15: 0.5019 - dense_1_acc_1: 0.5252 - dense_1_acc_2: 0.6338 - dense_1_acc_3: 0.6433 - dense_1_acc_4: 0.6529 - dense_1_acc_5: 0.6486 - dense_1_acc_6: 0.7179 - dense_1_acc_7: 0.7445 - dense_1_acc_8: 0.7640 - dense_1_acc_9: 0.7635 - dense_1_acc_10: 0.7683 - dense_1_acc_11: 0.7759 - dense_1_acc_12: 0.7744 - dense_1_acc_13: 0.7805 - dense_1_acc_14: 0.7815 - dense_1_acc_15: 0.7796\n"
     ]
    },
    {
     "data": {
      "text/plain": [
       "<keras.callbacks.History at 0x18a8d1009b0>"
      ]
     },
     "execution_count": 31,
     "metadata": {},
     "output_type": "execute_result"
    }
   ],
   "source": [
    "model.fit([x_train, a0, c0], list(y_train), epochs=10)"
   ]
  },
  {
   "cell_type": "code",
   "execution_count": 32,
   "metadata": {},
   "outputs": [],
   "source": [
    "m_t = x_test.shape[0]\n",
    "a0_t = np.zeros((m_t, n_a))\n",
    "c0_t = np.zeros((m_t, n_a))"
   ]
  },
  {
   "cell_type": "code",
   "execution_count": 34,
   "metadata": {},
   "outputs": [
    {
     "name": "stdout",
     "output_type": "stream",
     "text": [
      "1530/1530 [==============================] - 3s 2ms/step\n"
     ]
    },
    {
     "data": {
      "text/plain": [
       "[8.1394441193225333,\n",
       " 0.68649219843297227,\n",
       " 0.66842293131585218,\n",
       " 0.6474493969499675,\n",
       " 0.62604353209726171,\n",
       " 0.60595984139473613,\n",
       " 0.55427271182241,\n",
       " 0.53408347352657448,\n",
       " 0.51291458419725011,\n",
       " 0.50179924154593269,\n",
       " 0.48426854883144105,\n",
       " 0.47200996883554397,\n",
       " 0.467594226980521,\n",
       " 0.45899881054373348,\n",
       " 0.45738684663585588,\n",
       " 0.46174781665303349,\n",
       " 0.5294117646279678,\n",
       " 0.63333333372290612,\n",
       " 0.65163398677227546,\n",
       " 0.65947712457257934,\n",
       " 0.67450980423322693,\n",
       " 0.73464052264207325,\n",
       " 0.76143790880839035,\n",
       " 0.76928104551789023,\n",
       " 0.78169934663897245,\n",
       " 0.78888888912263255,\n",
       " 0.79607843160629277,\n",
       " 0.79411764674716523,\n",
       " 0.79411764674716523,\n",
       " 0.80196078400206716,\n",
       " 0.80326797354455093]"
      ]
     },
     "execution_count": 34,
     "metadata": {},
     "output_type": "execute_result"
    }
   ],
   "source": [
    "model.evaluate([x_test, a0_t, c0_t], list(y_test))"
   ]
  },
  {
   "cell_type": "code",
   "execution_count": 36,
   "metadata": {},
   "outputs": [],
   "source": [
    "from keras.utils import plot_model\n",
    "plot_model(model, to_file='model.png')"
   ]
  },
  {
   "cell_type": "markdown",
   "metadata": {},
   "source": [
    "![](model.png)"
   ]
  },
  {
   "cell_type": "code",
   "execution_count": 45,
   "metadata": {},
   "outputs": [],
   "source": [
    "model.save_weights('model.h5')"
   ]
  }
 ],
 "metadata": {
  "kernelspec": {
   "display_name": "Python 3",
   "language": "python",
   "name": "python3"
  },
  "language_info": {
   "codemirror_mode": {
    "name": "ipython",
    "version": 3
   },
   "file_extension": ".py",
   "mimetype": "text/x-python",
   "name": "python",
   "nbconvert_exporter": "python",
   "pygments_lexer": "ipython3",
   "version": "3.5.1"
  }
 },
 "nbformat": 4,
 "nbformat_minor": 2
}
